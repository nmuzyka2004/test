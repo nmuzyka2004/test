{
  "nbformat": 4,
  "nbformat_minor": 0,
  "metadata": {
    "colab": {
      "provenance": [],
      "include_colab_link": true
    },
    "kernelspec": {
      "name": "python3",
      "display_name": "Python 3"
    },
    "language_info": {
      "name": "python"
    }
  },
  "cells": [
    {
      "cell_type": "markdown",
      "metadata": {
        "id": "view-in-github",
        "colab_type": "text"
      },
      "source": [
        "<a href=\"https://colab.research.google.com/github/nmuzyka2004/test/blob/main/%D0%A0%D0%B5%D1%88%D0%B5%D0%BD%D0%B8%D0%B5_%D0%B4%D0%BE%D0%BC%D0%B0%D1%88%D0%BA%D0%B8.ipynb\" target=\"_parent\"><img src=\"https://colab.research.google.com/assets/colab-badge.svg\" alt=\"Open In Colab\"/></a>"
      ]
    },
    {
      "cell_type": "markdown",
      "source": [
        "# Домашка\n",
        "\n",
        "1. Загрузить файл https://gist.githubusercontent.com/andron23/57efe40e7ef578d01c2f48497eea29bf/raw/d89cd282d0c6350246799db6b402d3391541d0a1/sales.csv\n",
        "2. Добавить информацию о сумме продаж к исходному датафрейму\n",
        "3. Сделать агрегацию и посчитать метрику ARPU в разрезе рекламных каналов\n",
        "4. Сделать новые управленческие выводы на основании новой информации"
      ],
      "metadata": {
        "id": "6MOXpF_EqKg0"
      }
    },
    {
      "cell_type": "markdown",
      "source": [
        "При решении домашнего задания за основу берем код с лайв-интенсива: https://colab.research.google.com/drive/1Qh94MRmcHFdxOiQJxYAifzLBQIw17ONX?usp=sharing#scrollTo=ykQXs3sMkG_B"
      ],
      "metadata": {
        "id": "lqif8gYw4m1D"
      }
    },
    {
      "cell_type": "markdown",
      "source": [
        "По аналогии с тем, как делали это раньше, скачиваем файл"
      ],
      "metadata": {
        "id": "Z5hE8U1EqQUu"
      }
    },
    {
      "cell_type": "code",
      "source": [
        "!wget https://gist.githubusercontent.com/andron23/57efe40e7ef578d01c2f48497eea29bf/raw/d89cd282d0c6350246799db6b402d3391541d0a1/sales.csv"
      ],
      "metadata": {
        "id": "fpx4bIb_qMSl"
      },
      "execution_count": null,
      "outputs": []
    },
    {
      "cell_type": "markdown",
      "source": [
        "Далее загружаем данные в новый датафрейм"
      ],
      "metadata": {
        "id": "QDSP53a9qSNl"
      }
    },
    {
      "cell_type": "code",
      "source": [
        "import pandas as pd\n",
        "\n",
        "sales = pd.read_csv('sales.csv', decimal='.', sep=';')"
      ],
      "metadata": {
        "id": "QSUF4aCEqTW9"
      },
      "execution_count": null,
      "outputs": []
    },
    {
      "cell_type": "markdown",
      "source": [
        "Смотрим на его внутреннюю структуру"
      ],
      "metadata": {
        "id": "X52Ppv8qqUWb"
      }
    },
    {
      "cell_type": "code",
      "source": [
        "sales"
      ],
      "metadata": {
        "id": "8HCxtCcVqVks"
      },
      "execution_count": null,
      "outputs": []
    },
    {
      "cell_type": "markdown",
      "source": [
        "Нам нужно соединить две таблицы - исходный датафрейм `df` и новый `sales`. Если вы знакомы с SQL, то нам нужно сделать аналог операции `JOIN`. Если знакомы с Excel - то `ВПР`.\n",
        "\n",
        "В Pandas это делается с помощью метода `merge`.\n",
        "\n",
        "У нас 2 общих столбца в каждом датафрейме - `date` и `placement`. Именно по ним нужно соединять. Это указывается с помощью аргументов `left_on` и `right_on`.\n",
        "\n",
        "Также мы указываем аргумент `how='outer'`, чтобы оставить не только те строки, в которых найдено соответствие (т.е. только дни, в которые были продажи), а вообще все строки. Если в какой-то день продажи не было, то в итоговой таблице там будет `NaN`."
      ],
      "metadata": {
        "id": "nb2TeLb6qWwN"
      }
    },
    {
      "cell_type": "code",
      "source": [
        "df = df.merge(sales, left_on=['date', 'placement'], right_on=['date', 'placement'], how='outer')"
      ],
      "metadata": {
        "id": "4c9HrIyhqZHc"
      },
      "execution_count": null,
      "outputs": []
    },
    {
      "cell_type": "markdown",
      "source": [
        "Снова делаем агрегирование, добавляя на этот раз сумму покупок в столбец `sales`."
      ],
      "metadata": {
        "id": "RVz5KZmWqarW"
      }
    },
    {
      "cell_type": "code",
      "source": [
        "df2 = df.groupby('placement').agg({\n",
        "    'clicks': [\n",
        "        ('sum_clicks', 'sum'),\n",
        "        ('mean_clicks', 'mean')\n",
        "    ],\n",
        "    'impressions': [\n",
        "       ('sum_impressions', 'sum'),\n",
        "       ('mean_impressions', 'mean')\n",
        "    ],\n",
        "    'spent': [\n",
        "        ('spent_daily', 'mean'),\n",
        "        ('spent_total', 'sum')\n",
        "    ],\n",
        "    'leads': [('cnt_leads', 'sum')],\n",
        "    'qualleads': [('cnt_qual', 'sum')],\n",
        "    'customers': [('customers_sum', 'sum')],\n",
        "    'rubs': [('sales', 'sum')]\n",
        "}).reset_index()\n",
        "\n",
        "df2.columns = df2.columns.droplevel(0)"
      ],
      "metadata": {
        "id": "ct2otaVyqb_b"
      },
      "execution_count": null,
      "outputs": []
    },
    {
      "cell_type": "markdown",
      "source": [
        "ARPU - average revenue per user, средний доход с покупателя. В нашем случае это средний чек.\n",
        "\n",
        "Считаем `ARPU` как отношение суммы покупок к количеству покупателей."
      ],
      "metadata": {
        "id": "2JxWzyRQqdI6"
      }
    },
    {
      "cell_type": "code",
      "source": [
        "df2['mean_crq'] = df2['cnt_qual'] / df2['cnt_leads']\n",
        "df2['mean_cpql'] = df2['spent_total'] / df2['cnt_qual']\n",
        "df2['mean_cpl'] = df2['spent_total'] / df2['cnt_leads']\n",
        "df2['mean_cr1'] = df2['cnt_leads'] / df2['sum_clicks']\n",
        "df2['mean_cpc'] = df2['spent_total'] / df2['sum_clicks']\n",
        "df2['cac'] = df2['spent_total'] / df2['customers_sum']\n",
        "df2['cr2'] = df2['customers_sum'] / df2['cnt_leads']\n",
        "\n",
        "df2['arpu'] = df2['sales'] / df2['customers_sum']"
      ],
      "metadata": {
        "id": "YaYVNknnqeKd"
      },
      "execution_count": null,
      "outputs": []
    },
    {
      "cell_type": "markdown",
      "source": [
        "Смотрим на результат"
      ],
      "metadata": {
        "id": "UNlOU-WOqe_l"
      }
    },
    {
      "cell_type": "code",
      "source": [
        "df2"
      ],
      "metadata": {
        "id": "7dmNPtM8qf-p"
      },
      "execution_count": null,
      "outputs": []
    },
    {
      "cell_type": "markdown",
      "source": [
        "Ранее мы сделали вывод, что хоть ВК и работает хуже, там намного ниже стоимость клиента.\n",
        "\n",
        "Однако теперь мы наблюдаем обратное - оказывается, в ВК мы с клиента зарабатываем очень мало, в то время как с Инстаграма - в 3 раза больше (хоть клиентов там и меньше).\n",
        "\n",
        "Получается, нам снова нужно поменять наше управленческое решение - теперь давайте точно останавливать ВК и реинвестировать в Инстаграм! 😱"
      ],
      "metadata": {
        "id": "4IVfW5wsqhJN"
      }
    },
    {
      "cell_type": "markdown",
      "source": [
        "Однако, перед этим давайте посчитаем - а в итоге-то какой рекламный канал приносит нам больше денег. Посчитаем прибыль как разность заработанных и потраченных денег."
      ],
      "metadata": {
        "id": "bkG5A80mqiNk"
      }
    },
    {
      "cell_type": "code",
      "source": [
        "df2['profit'] = df2['sales'] - df2['spent_total']"
      ],
      "metadata": {
        "id": "vq9OkHu5qjYq"
      },
      "execution_count": null,
      "outputs": []
    },
    {
      "cell_type": "code",
      "source": [
        "df2"
      ],
      "metadata": {
        "id": "BbvI5LEGqkT8"
      },
      "execution_count": null,
      "outputs": []
    },
    {
      "cell_type": "markdown",
      "source": [
        "И наблюдаем забавную ситуацию - оба канала пока работают в минус 😁 Получается, нужно отключить оба канала."
      ],
      "metadata": {
        "id": "uIX8LYb_qlI3"
      }
    },
    {
      "cell_type": "markdown",
      "source": [
        "На самом деле, ситуация очень непростая, но по факту вполне себе реальная - редко в жизни встречаются однозначные ответы.\n",
        "\n",
        "Мы предлагаем на основании проведенного анализа такие рекомендации:\n",
        "\n",
        "1. Нужно увеличить CR1 в Инстаграме - это позволит снизить стоимость лида, а значит и CAC при тех же конверсиях. Например, изменить текст рекламных объявлений - судя по всему, у людей не сходится ожидание/реальность и они не оставляют заявки на сайте.\n",
        "2. Нужно снизить CPC в ВК - это также повлияет на снижение CAC. Например, можно попробовать более яркие объявления или другую аудиторию.\n",
        "3. Бюджет пока можно нигде не увеличивать - слишком все пока шатко.\n",
        "4. Нужно увеличить CR2 в Инстаграме - за счет этого CAC будет сильно меньше. Для этого внутри воронки нужно усилить прогрев - людям недостаточно мотивации покупать. Также стоит провести кастдев (исследование) людей из Инстаграма - раз на той же воронке люди из ВК покупают нормально, видимо, что-то не так с аудиторией из Инстаграма. Иногда дело может быть в мелочах - люди могут просто не знать, что вы принимаете оплаты из-за рубежа.\n",
        "5. Нужно увеличить ARPU в ВК - за счет этого прибыль с клиента будет больше. Почему-то люди из ВК не видят для себя ценности покупать более дорогой тариф. Нужно отредактировать воронку - добавить туда сообщений, которые убеждают купить более дорогой тариф. Также можно пообщаться с уже купившими - почему они выбрали дешевый тариф, может быть что-то станет понятно."
      ],
      "metadata": {
        "id": "XE9OPqNoqmO6"
      }
    }
  ]
}